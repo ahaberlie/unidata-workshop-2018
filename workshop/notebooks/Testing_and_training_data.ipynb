{
 "cells": [
  {
   "cell_type": "markdown",
   "metadata": {},
   "source": [
    "# Testing a Rainfall Region Classifier\n",
    "\n",
    "This notebook demonstrates:\n",
    "\n",
    "1) Reading in training and testing data\n",
    "\n",
    "2) Examining pertinent rainfall region features\n",
    "\n",
    "3) Passing these features into a random forest classifier\n",
    "\n",
    "4) Basic assessment of the classifier\n",
    "\n",
    "5) Exploring the feature space to see how this modifies the classification"
   ]
  },
  {
   "cell_type": "markdown",
   "metadata": {},
   "source": [
    "CSV files for this example are in the \"../data/training\" folder."
   ]
  },
  {
   "cell_type": "code",
   "execution_count": 1,
   "metadata": {},
   "outputs": [],
   "source": [
    "import matplotlib.pyplot as plt\n",
    "%matplotlib inline\n",
    "import numpy as np\n",
    "import pandas as pd\n",
    "\n",
    "plt.rcParams['figure.figsize'] = 10, 10\n",
    "\n",
    "data_loc = \"../data\""
   ]
  },
  {
   "cell_type": "code",
   "execution_count": 2,
   "metadata": {},
   "outputs": [
    {
     "name": "stdout",
     "output_type": "stream",
     "text": [
      "<class 'pandas.core.frame.DataFrame'>\n",
      "RangeIndex: 399 entries, 0 to 398\n",
      "Data columns (total 25 columns):\n",
      "datetime                       399 non-null object\n",
      "index                          399 non-null int64\n",
      "filename                       399 non-null object\n",
      "mean_intensity                 399 non-null float64\n",
      "solidity                       399 non-null float64\n",
      "intensity_variance             399 non-null float64\n",
      "intense_convection_ratio       399 non-null float64\n",
      "convection_stratiform_ratio    399 non-null float64\n",
      "area                           399 non-null int64\n",
      "convection_area                399 non-null int64\n",
      "max_intensity                  399 non-null int64\n",
      "minor_axis_length              399 non-null float64\n",
      "intense_area                   399 non-null int64\n",
      "eccentricity                   399 non-null float64\n",
      "convex_area                    399 non-null int64\n",
      "intense_stratiform_ratio       399 non-null float64\n",
      "major_axis_length              399 non-null float64\n",
      "label                          399 non-null int64\n",
      "minor_major_ratio              399 non-null float64\n",
      "xmax                           399 non-null int64\n",
      "xmin                           399 non-null int64\n",
      "ymax                           399 non-null int64\n",
      "ymin                           399 non-null int64\n",
      "label1                         399 non-null int64\n",
      "label_name                     399 non-null object\n",
      "dtypes: float64(10), int64(12), object(3)\n",
      "memory usage: 78.0+ KB\n"
     ]
    }
   ],
   "source": [
    "df_train = pd.read_csv(data_loc + \"/training/sample_train_data.csv\")\n",
    "df_train.info()"
   ]
  },
  {
   "cell_type": "code",
   "execution_count": 3,
   "metadata": {},
   "outputs": [
    {
     "name": "stdout",
     "output_type": "stream",
     "text": [
      "<class 'pandas.core.frame.DataFrame'>\n",
      "RangeIndex: 100 entries, 0 to 99\n",
      "Data columns (total 25 columns):\n",
      "datetime                       100 non-null object\n",
      "index                          100 non-null int64\n",
      "filename                       100 non-null object\n",
      "mean_intensity                 100 non-null float64\n",
      "solidity                       100 non-null float64\n",
      "intensity_variance             100 non-null float64\n",
      "intense_convection_ratio       100 non-null float64\n",
      "convection_stratiform_ratio    100 non-null float64\n",
      "area                           100 non-null int64\n",
      "convection_area                100 non-null int64\n",
      "max_intensity                  100 non-null int64\n",
      "minor_axis_length              100 non-null float64\n",
      "intense_area                   100 non-null int64\n",
      "eccentricity                   100 non-null float64\n",
      "convex_area                    100 non-null int64\n",
      "intense_stratiform_ratio       100 non-null float64\n",
      "major_axis_length              100 non-null float64\n",
      "label                          100 non-null int64\n",
      "minor_major_ratio              100 non-null float64\n",
      "xmax                           100 non-null int64\n",
      "xmin                           100 non-null int64\n",
      "ymax                           100 non-null int64\n",
      "ymin                           100 non-null int64\n",
      "label1                         100 non-null int64\n",
      "label_name                     100 non-null object\n",
      "dtypes: float64(10), int64(12), object(3)\n",
      "memory usage: 19.6+ KB\n"
     ]
    }
   ],
   "source": [
    "df_test = pd.read_csv(data_loc + \"/training/sample_test_data.csv\")\n",
    "df_test.info()"
   ]
  },
  {
   "cell_type": "markdown",
   "metadata": {},
   "source": [
    "# These vectors are associated with the following features..."
   ]
  },
  {
   "cell_type": "code",
   "execution_count": 4,
   "metadata": {},
   "outputs": [],
   "source": [
    "feature_list = ['area', 'convex_area', 'eccentricity', \n",
    "                'intense_area', 'convection_area',\n",
    "                'convection_stratiform_ratio', 'intense_stratiform_ratio',\n",
    "                'intense_convection_ratio', 'mean_intensity', 'max_intensity',\n",
    "                'intensity_variance', 'major_axis_length', 'minor_axis_length',\n",
    "                'solidity']"
   ]
  },
  {
   "cell_type": "markdown",
   "metadata": {},
   "source": [
    "# ... and the following labels"
   ]
  },
  {
   "cell_type": "code",
   "execution_count": 5,
   "metadata": {},
   "outputs": [],
   "source": [
    "labels = ['MCS', 'Unorganized', 'Tropical', 'Synoptic', 'Clutter']"
   ]
  },
  {
   "cell_type": "code",
   "execution_count": 6,
   "metadata": {},
   "outputs": [
    {
     "data": {
      "text/html": [
       "<div>\n",
       "<style scoped>\n",
       "    .dataframe tbody tr th:only-of-type {\n",
       "        vertical-align: middle;\n",
       "    }\n",
       "\n",
       "    .dataframe tbody tr th {\n",
       "        vertical-align: top;\n",
       "    }\n",
       "\n",
       "    .dataframe thead th {\n",
       "        text-align: right;\n",
       "    }\n",
       "</style>\n",
       "<table border=\"1\" class=\"dataframe\">\n",
       "  <thead>\n",
       "    <tr style=\"text-align: right;\">\n",
       "      <th></th>\n",
       "      <th>datetime</th>\n",
       "      <th>index</th>\n",
       "      <th>filename</th>\n",
       "      <th>mean_intensity</th>\n",
       "      <th>solidity</th>\n",
       "      <th>intensity_variance</th>\n",
       "      <th>intense_convection_ratio</th>\n",
       "      <th>convection_stratiform_ratio</th>\n",
       "      <th>area</th>\n",
       "      <th>convection_area</th>\n",
       "      <th>...</th>\n",
       "      <th>intense_stratiform_ratio</th>\n",
       "      <th>major_axis_length</th>\n",
       "      <th>label</th>\n",
       "      <th>minor_major_ratio</th>\n",
       "      <th>xmax</th>\n",
       "      <th>xmin</th>\n",
       "      <th>ymax</th>\n",
       "      <th>ymin</th>\n",
       "      <th>label1</th>\n",
       "      <th>label_name</th>\n",
       "    </tr>\n",
       "  </thead>\n",
       "  <tbody>\n",
       "    <tr>\n",
       "      <th>0</th>\n",
       "      <td>2008-07-06 06:25:00</td>\n",
       "      <td>1292</td>\n",
       "      <td>extracted/mcs_files/mcs_BREF_080706_0625_000.png</td>\n",
       "      <td>28.275568</td>\n",
       "      <td>0.643510</td>\n",
       "      <td>83.110615</td>\n",
       "      <td>0.308452</td>\n",
       "      <td>0.172538</td>\n",
       "      <td>21120</td>\n",
       "      <td>3644</td>\n",
       "      <td>...</td>\n",
       "      <td>0.053220</td>\n",
       "      <td>359.772021</td>\n",
       "      <td>0</td>\n",
       "      <td>0.260919</td>\n",
       "      <td>1966</td>\n",
       "      <td>1828</td>\n",
       "      <td>290</td>\n",
       "      <td>145</td>\n",
       "      <td>1</td>\n",
       "      <td>MCS</td>\n",
       "    </tr>\n",
       "    <tr>\n",
       "      <th>1</th>\n",
       "      <td>2013-06-09 19:35:00</td>\n",
       "      <td>1772</td>\n",
       "      <td>extracted/mcs_files/mcs_BREF_130609_1935_001.png</td>\n",
       "      <td>31.102197</td>\n",
       "      <td>0.458959</td>\n",
       "      <td>70.989211</td>\n",
       "      <td>0.201437</td>\n",
       "      <td>0.220508</td>\n",
       "      <td>58084</td>\n",
       "      <td>12808</td>\n",
       "      <td>...</td>\n",
       "      <td>0.044418</td>\n",
       "      <td>501.497502</td>\n",
       "      <td>0</td>\n",
       "      <td>0.435192</td>\n",
       "      <td>1948</td>\n",
       "      <td>1679</td>\n",
       "      <td>1412</td>\n",
       "      <td>1199</td>\n",
       "      <td>1</td>\n",
       "      <td>MCS</td>\n",
       "    </tr>\n",
       "    <tr>\n",
       "      <th>2</th>\n",
       "      <td>2010-08-20 03:10:00</td>\n",
       "      <td>1552</td>\n",
       "      <td>extracted/mcs_files/mcs_BREF_100820_0310_001.png</td>\n",
       "      <td>31.347850</td>\n",
       "      <td>0.559617</td>\n",
       "      <td>89.086667</td>\n",
       "      <td>0.230869</td>\n",
       "      <td>0.277488</td>\n",
       "      <td>22228</td>\n",
       "      <td>6168</td>\n",
       "      <td>...</td>\n",
       "      <td>0.064063</td>\n",
       "      <td>256.749168</td>\n",
       "      <td>0</td>\n",
       "      <td>0.595245</td>\n",
       "      <td>2704</td>\n",
       "      <td>2583</td>\n",
       "      <td>1058</td>\n",
       "      <td>948</td>\n",
       "      <td>1</td>\n",
       "      <td>MCS</td>\n",
       "    </tr>\n",
       "    <tr>\n",
       "      <th>3</th>\n",
       "      <td>2011-06-20 10:05:00</td>\n",
       "      <td>1592</td>\n",
       "      <td>extracted/mcs_files/mcs_BREF_110620_1005_002.png</td>\n",
       "      <td>26.587559</td>\n",
       "      <td>0.287222</td>\n",
       "      <td>55.918631</td>\n",
       "      <td>0.246973</td>\n",
       "      <td>0.081171</td>\n",
       "      <td>40704</td>\n",
       "      <td>3304</td>\n",
       "      <td>...</td>\n",
       "      <td>0.020047</td>\n",
       "      <td>524.874712</td>\n",
       "      <td>0</td>\n",
       "      <td>0.455835</td>\n",
       "      <td>1448</td>\n",
       "      <td>1147</td>\n",
       "      <td>847</td>\n",
       "      <td>669</td>\n",
       "      <td>1</td>\n",
       "      <td>MCS</td>\n",
       "    </tr>\n",
       "    <tr>\n",
       "      <th>4</th>\n",
       "      <td>2007-06-18 22:35:00</td>\n",
       "      <td>1110</td>\n",
       "      <td>extracted/mcs_files/mcs_BREF_070618_2235_000.png</td>\n",
       "      <td>30.214721</td>\n",
       "      <td>0.597247</td>\n",
       "      <td>60.598419</td>\n",
       "      <td>0.181799</td>\n",
       "      <td>0.168044</td>\n",
       "      <td>110376</td>\n",
       "      <td>18548</td>\n",
       "      <td>...</td>\n",
       "      <td>0.030550</td>\n",
       "      <td>789.889039</td>\n",
       "      <td>0</td>\n",
       "      <td>0.275361</td>\n",
       "      <td>2238</td>\n",
       "      <td>1915</td>\n",
       "      <td>610</td>\n",
       "      <td>280</td>\n",
       "      <td>1</td>\n",
       "      <td>MCS</td>\n",
       "    </tr>\n",
       "  </tbody>\n",
       "</table>\n",
       "<p>5 rows × 25 columns</p>\n",
       "</div>"
      ],
      "text/plain": [
       "              datetime  index  \\\n",
       "0  2008-07-06 06:25:00   1292   \n",
       "1  2013-06-09 19:35:00   1772   \n",
       "2  2010-08-20 03:10:00   1552   \n",
       "3  2011-06-20 10:05:00   1592   \n",
       "4  2007-06-18 22:35:00   1110   \n",
       "\n",
       "                                           filename  mean_intensity  solidity  \\\n",
       "0  extracted/mcs_files/mcs_BREF_080706_0625_000.png       28.275568  0.643510   \n",
       "1  extracted/mcs_files/mcs_BREF_130609_1935_001.png       31.102197  0.458959   \n",
       "2  extracted/mcs_files/mcs_BREF_100820_0310_001.png       31.347850  0.559617   \n",
       "3  extracted/mcs_files/mcs_BREF_110620_1005_002.png       26.587559  0.287222   \n",
       "4  extracted/mcs_files/mcs_BREF_070618_2235_000.png       30.214721  0.597247   \n",
       "\n",
       "   intensity_variance  intense_convection_ratio  convection_stratiform_ratio  \\\n",
       "0           83.110615                  0.308452                     0.172538   \n",
       "1           70.989211                  0.201437                     0.220508   \n",
       "2           89.086667                  0.230869                     0.277488   \n",
       "3           55.918631                  0.246973                     0.081171   \n",
       "4           60.598419                  0.181799                     0.168044   \n",
       "\n",
       "     area  convection_area     ...      intense_stratiform_ratio  \\\n",
       "0   21120             3644     ...                      0.053220   \n",
       "1   58084            12808     ...                      0.044418   \n",
       "2   22228             6168     ...                      0.064063   \n",
       "3   40704             3304     ...                      0.020047   \n",
       "4  110376            18548     ...                      0.030550   \n",
       "\n",
       "   major_axis_length  label  minor_major_ratio  xmax  xmin  ymax  ymin  \\\n",
       "0         359.772021      0           0.260919  1966  1828   290   145   \n",
       "1         501.497502      0           0.435192  1948  1679  1412  1199   \n",
       "2         256.749168      0           0.595245  2704  2583  1058   948   \n",
       "3         524.874712      0           0.455835  1448  1147   847   669   \n",
       "4         789.889039      0           0.275361  2238  1915   610   280   \n",
       "\n",
       "   label1  label_name  \n",
       "0       1         MCS  \n",
       "1       1         MCS  \n",
       "2       1         MCS  \n",
       "3       1         MCS  \n",
       "4       1         MCS  \n",
       "\n",
       "[5 rows x 25 columns]"
      ]
     },
     "execution_count": 6,
     "metadata": {},
     "output_type": "execute_result"
    }
   ],
   "source": [
    "df_train['label_name'] = [labels[x] for x in df_train.label.values]\n",
    "df_test['label_name'] = [labels[x] for x in df_test.label.values]\n",
    "\n",
    "df_train.head()"
   ]
  },
  {
   "cell_type": "code",
   "execution_count": 7,
   "metadata": {},
   "outputs": [
    {
     "data": {
      "text/plain": [
       "Text(0,0.5,'km $^2$')"
      ]
     },
     "execution_count": 7,
     "metadata": {},
     "output_type": "execute_result"
    },
    {
     "data": {
      "image/png": "[encoded data removed]",
      "text/plain": [
       "<Figure size 720x720 with 1 Axes>"
      ]
     },
     "metadata": {},
     "output_type": "display_data"
    }
   ],
   "source": [
    "ax = df_train.boxplot(column='area', by='label_name', figsize=(10,10), fontsize=20)\n",
    "\n",
    "ax.set_yscale('log')\n",
    "ax.set_ylabel(\"km $^2$\", fontsize=20)"
   ]
  },
  {
   "cell_type": "code",
   "execution_count": 8,
   "metadata": {},
   "outputs": [
    {
     "data": {
      "text/plain": [
       "Text(0,0.5,'Mean dBZ')"
      ]
     },
     "execution_count": 8,
     "metadata": {},
     "output_type": "execute_result"
    },
    {
     "data": {
      "image/png": "[encoded data removed]",
      "text/plain": [
       "<Figure size 720x720 with 1 Axes>"
      ]
     },
     "metadata": {},
     "output_type": "display_data"
    }
   ],
   "source": [
    "ax = df_train.boxplot(column='mean_intensity', by='label_name', figsize=(10,10), fontsize=20)\n",
    "ax.set_ylabel(\"Mean dBZ\",fontsize=20)"
   ]
  },
  {
   "cell_type": "markdown",
   "metadata": {},
   "source": [
    "# Build Random Forest Classifier and Examine Performance Metrics"
   ]
  },
  {
   "cell_type": "code",
   "execution_count": 9,
   "metadata": {},
   "outputs": [
    {
     "name": "stdout",
     "output_type": "stream",
     "text": [
      "Classification report for classifier RandomForestClassifier(bootstrap=True, class_weight=None, criterion='gini',\n",
      "            max_depth=None, max_features='auto', max_leaf_nodes=None,\n",
      "            min_impurity_decrease=0.0, min_impurity_split=None,\n",
      "            min_samples_leaf=1, min_samples_split=2,\n",
      "            min_weight_fraction_leaf=0.0, n_estimators=10, n_jobs=1,\n",
      "            oob_score=False, random_state=42, verbose=0, warm_start=False):\n",
      "             precision    recall  f1-score   support\n",
      "\n",
      "          0       0.84      0.80      0.82        20\n",
      "          1       1.00      0.80      0.89        20\n",
      "          2       0.64      0.80      0.71        20\n",
      "          3       0.75      0.60      0.67        20\n",
      "          4       0.79      0.95      0.86        20\n",
      "\n",
      "avg / total       0.80      0.79      0.79       100\n",
      "\n",
      "\n",
      "Confusion matrix:\n",
      "[[16  0  3  0  1]\n",
      " [ 1 16  0  0  3]\n",
      " [ 1  0 16  3  0]\n",
      " [ 1  0  6 12  1]\n",
      " [ 0  0  0  1 19]]\n"
     ]
    }
   ],
   "source": [
    "from sklearn.ensemble import RandomForestClassifier\n",
    "from sklearn import metrics\n",
    "\n",
    "rf_clf = RandomForestClassifier(random_state=42)\n",
    "\n",
    "rf_clf.fit(df_train[['area', 'mean_intensity']].values, df_train.label.values)\n",
    "\n",
    "predicted = rf_clf.predict(df_test[['area', 'mean_intensity']].values)\n",
    "expected = df_test.label.values\n",
    "\n",
    "print(\"Classification report for classifier %s:\\n%s\\n\"\n",
    "      % (rf_clf, metrics.classification_report(expected, predicted)))\n",
    "print(\"Confusion matrix:\\n%s\" % metrics.confusion_matrix(expected, predicted))"
   ]
  },
  {
   "cell_type": "code",
   "execution_count": 10,
   "metadata": {
    "scrolled": false
   },
   "outputs": [
    {
     "data": {
      "application/vnd.jupyter.widget-view+json": {
       "model_id": "a44551656b5440ab87f941ed580e6601",
       "version_major": 2,
       "version_minor": 0
      },
      "text/plain": [
       "interactive(children=(FloatSlider(value=10000.0, continuous_update=False, description='Area', max=500000.0, mi…"
      ]
     },
     "metadata": {},
     "output_type": "display_data"
    },
    {
     "data": {
      "text/plain": [
       "<function __main__.get_label_2f(area=FloatSlider(value=10000.0, continuous_update=False, description='Area', max=500000.0, min=1000.0), mean_intensity=FloatSlider(value=30.0, continuous_update=False, description='Mean Intensity', max=40.0, min=20.0))>"
      ]
     },
     "execution_count": 10,
     "metadata": {},
     "output_type": "execute_result"
    }
   ],
   "source": [
    "plt.rcParams['figure.figsize'] = 14, 14\n",
    "from ipywidgets.widgets import FloatSlider as fs\n",
    "from ipywidgets import interact, Layout\n",
    "\n",
    "plt.rcParams['xtick.labelsize']=20\n",
    "plt.rcParams['ytick.labelsize']=20\n",
    "\n",
    "df = pd.concat([df_train, df_test])\n",
    "\n",
    "labels= ['MCS', 'Unorganized', 'Tropical', 'Synoptic', 'Clutter']\n",
    "\n",
    "def get_label_2f(area=fs(value=10000, min=1000, max=500000, \n",
    "                      description='Area',\n",
    "                      continuous_update=False),\n",
    "                 mean_intensity=fs(value=30, min=20, max=40, \n",
    "                                description='Mean Intensity',\n",
    "                                continuous_update=False)):\n",
    "    \n",
    "    \n",
    "    vector = np.array([area, mean_intensity])\n",
    "\n",
    "    class_name = rf_clf.predict(vector.reshape(1,-1))[0]\n",
    "    proba = rf_clf.predict_proba(vector.reshape(1,-1))[0]\n",
    "    \n",
    "    perc = float(proba[np.argmax(proba)])*100\n",
    "    \n",
    "    for color, label in zip(['r', 'g', 'b', 'y', 'k'], labels):\n",
    "              \n",
    "        t_df = df[df.label_name==label]\n",
    "        plt.scatter(t_df.area, t_df.mean_intensity, c=color, label=label)\n",
    "\n",
    "\n",
    "    plt.xscale('symlog')\n",
    "    plt.legend(prop={'size':20})\n",
    "    plt.xlim(1000, 600000)\n",
    "    plt.title(labels[class_name] +  \": %.1f\" % perc + '%', fontsize=30)\n",
    "    plt.ylabel(\"Mean Intensity (dBZ)\", fontsize=30)\n",
    "    plt.xlabel(\"Area (\" + r'$km^2$' + \")\", fontsize=30)\n",
    "    \n",
    "    plt.plot(area, mean_intensity, 'w*', markersize=80)\n",
    "    plt.plot(area, mean_intensity, 'm*', markersize=50)\n",
    "\n",
    "    \n",
    "interact(get_label_2f)"
   ]
  },
  {
   "cell_type": "code",
   "execution_count": 11,
   "metadata": {},
   "outputs": [
    {
     "name": "stdout",
     "output_type": "stream",
     "text": [
      "Classification report for classifier RandomForestClassifier(bootstrap=True, class_weight=None, criterion='gini',\n",
      "            max_depth=None, max_features='auto', max_leaf_nodes=None,\n",
      "            min_impurity_decrease=0.0, min_impurity_split=None,\n",
      "            min_samples_leaf=1, min_samples_split=2,\n",
      "            min_weight_fraction_leaf=0.0, n_estimators=100, n_jobs=1,\n",
      "            oob_score=False, random_state=42, verbose=0, warm_start=False):\n",
      "             precision    recall  f1-score   support\n",
      "\n",
      "          0       1.00      0.90      0.95        20\n",
      "          1       0.94      0.80      0.86        20\n",
      "          2       0.85      0.85      0.85        20\n",
      "          3       0.85      0.85      0.85        20\n",
      "          4       0.80      1.00      0.89        20\n",
      "\n",
      "avg / total       0.89      0.88      0.88       100\n",
      "\n",
      "\n",
      "Confusion matrix:\n",
      "[[18  1  1  0  0]\n",
      " [ 0 16  0  0  4]\n",
      " [ 0  0 17  3  0]\n",
      " [ 0  0  2 17  1]\n",
      " [ 0  0  0  0 20]]\n"
     ]
    }
   ],
   "source": [
    "rf_clf = RandomForestClassifier(n_estimators=100, random_state=42)\n",
    "\n",
    "rf_clf.fit(df_train[feature_list].values, df_train.label.values)\n",
    "\n",
    "predicted = rf_clf.predict(df_test[feature_list].values)\n",
    "expected = df_test.label.values\n",
    "\n",
    "print(\"Classification report for classifier %s:\\n%s\\n\"\n",
    "      % (rf_clf, metrics.classification_report(expected, predicted)))\n",
    "print(\"Confusion matrix:\\n%s\" % metrics.confusion_matrix(expected, predicted))"
   ]
  },
  {
   "cell_type": "code",
   "execution_count": 12,
   "metadata": {},
   "outputs": [],
   "source": [
    "import pickle\n",
    "\n",
    "pickle.dump(rf_clf, open(data_loc + \"/classifiers/my_random_forest.pkl\", \"wb\"))"
   ]
  }
 ],
 "metadata": {
  "anaconda-cloud": {},
  "kernelspec": {
   "display_name": "Python 3",
   "language": "python",
   "name": "python3"
  },
  "language_info": {
   "codemirror_mode": {
    "name": "ipython",
    "version": 3
   },
   "file_extension": ".py",
   "mimetype": "text/x-python",
   "name": "python",
   "nbconvert_exporter": "python",
   "pygments_lexer": "ipython3",
   "version": "3.6.5"
  }
 },
 "nbformat": 4,
 "nbformat_minor": 1
}
